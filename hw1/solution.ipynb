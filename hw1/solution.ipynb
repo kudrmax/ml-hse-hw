{
 "cells": [
  {
   "cell_type": "code",
   "id": "initial_id",
   "metadata": {
    "collapsed": true,
    "ExecuteTime": {
     "end_time": "2024-12-17T17:27:33.469878Z",
     "start_time": "2024-12-17T17:27:33.466148Z"
    }
   },
   "source": [
    "import pandas as pd\n",
    "import seaborn as sns\n",
    "import matplotlib.pyplot as plt\n",
    "\n",
    "from sklearn.feature_extraction.text import TfidfVectorizer\n",
    "from sklearn.metrics import roc_auc_score\n",
    "from sklearn.model_selection import train_test_split\n",
    "from sklearn.preprocessing import LabelEncoder\n",
    "from sklearn.linear_model import LogisticRegression\n",
    "from sklearn.tree import DecisionTreeClassifier\n",
    "from sklearn.metrics import classification_report, confusion_matrix, roc_curve, auc"
   ],
   "outputs": [],
   "execution_count": 123
  },
  {
   "metadata": {},
   "cell_type": "markdown",
   "source": "# Датасет",
   "id": "3a57ae59adadf3a"
  },
  {
   "metadata": {
    "ExecuteTime": {
     "end_time": "2024-12-17T17:27:34.749924Z",
     "start_time": "2024-12-17T17:27:34.672773Z"
    }
   },
   "cell_type": "code",
   "source": [
    "data = pd.read_csv('data/spam.csv')\n",
    "data.describe()"
   ],
   "id": "6f62f631296b085a",
   "outputs": [
    {
     "data": {
      "text/plain": [
       "       text_type                                               text\n",
       "count      16278                                              16278\n",
       "unique         2                                              16267\n",
       "top          ham  SPAM ALERT  🚔  User:     Username: @DillyBubbl...\n",
       "freq       11469                                                  7"
      ],
      "text/html": [
       "<div>\n",
       "<style scoped>\n",
       "    .dataframe tbody tr th:only-of-type {\n",
       "        vertical-align: middle;\n",
       "    }\n",
       "\n",
       "    .dataframe tbody tr th {\n",
       "        vertical-align: top;\n",
       "    }\n",
       "\n",
       "    .dataframe thead th {\n",
       "        text-align: right;\n",
       "    }\n",
       "</style>\n",
       "<table border=\"1\" class=\"dataframe\">\n",
       "  <thead>\n",
       "    <tr style=\"text-align: right;\">\n",
       "      <th></th>\n",
       "      <th>text_type</th>\n",
       "      <th>text</th>\n",
       "    </tr>\n",
       "  </thead>\n",
       "  <tbody>\n",
       "    <tr>\n",
       "      <th>count</th>\n",
       "      <td>16278</td>\n",
       "      <td>16278</td>\n",
       "    </tr>\n",
       "    <tr>\n",
       "      <th>unique</th>\n",
       "      <td>2</td>\n",
       "      <td>16267</td>\n",
       "    </tr>\n",
       "    <tr>\n",
       "      <th>top</th>\n",
       "      <td>ham</td>\n",
       "      <td>SPAM ALERT  🚔  User:     Username: @DillyBubbl...</td>\n",
       "    </tr>\n",
       "    <tr>\n",
       "      <th>freq</th>\n",
       "      <td>11469</td>\n",
       "      <td>7</td>\n",
       "    </tr>\n",
       "  </tbody>\n",
       "</table>\n",
       "</div>"
      ]
     },
     "execution_count": 124,
     "metadata": {},
     "output_type": "execute_result"
    }
   ],
   "execution_count": 124
  },
  {
   "metadata": {
    "ExecuteTime": {
     "end_time": "2024-12-17T17:27:37.271351Z",
     "start_time": "2024-12-17T17:27:37.266919Z"
    }
   },
   "cell_type": "code",
   "source": "data.head()",
   "id": "8dbd127f1b436cdf",
   "outputs": [
    {
     "data": {
      "text/plain": [
       "  text_type                                               text\n",
       "0       ham  make sure alex knows his birthday is over in f...\n",
       "1       ham  a resume for john lavorato thanks vince i will...\n",
       "2      spam  plzz visit my website moviesgodml to get all m...\n",
       "3      spam  urgent your mobile number has been awarded wit...\n",
       "4       ham  overview of hr associates analyst project per ..."
      ],
      "text/html": [
       "<div>\n",
       "<style scoped>\n",
       "    .dataframe tbody tr th:only-of-type {\n",
       "        vertical-align: middle;\n",
       "    }\n",
       "\n",
       "    .dataframe tbody tr th {\n",
       "        vertical-align: top;\n",
       "    }\n",
       "\n",
       "    .dataframe thead th {\n",
       "        text-align: right;\n",
       "    }\n",
       "</style>\n",
       "<table border=\"1\" class=\"dataframe\">\n",
       "  <thead>\n",
       "    <tr style=\"text-align: right;\">\n",
       "      <th></th>\n",
       "      <th>text_type</th>\n",
       "      <th>text</th>\n",
       "    </tr>\n",
       "  </thead>\n",
       "  <tbody>\n",
       "    <tr>\n",
       "      <th>0</th>\n",
       "      <td>ham</td>\n",
       "      <td>make sure alex knows his birthday is over in f...</td>\n",
       "    </tr>\n",
       "    <tr>\n",
       "      <th>1</th>\n",
       "      <td>ham</td>\n",
       "      <td>a resume for john lavorato thanks vince i will...</td>\n",
       "    </tr>\n",
       "    <tr>\n",
       "      <th>2</th>\n",
       "      <td>spam</td>\n",
       "      <td>plzz visit my website moviesgodml to get all m...</td>\n",
       "    </tr>\n",
       "    <tr>\n",
       "      <th>3</th>\n",
       "      <td>spam</td>\n",
       "      <td>urgent your mobile number has been awarded wit...</td>\n",
       "    </tr>\n",
       "    <tr>\n",
       "      <th>4</th>\n",
       "      <td>ham</td>\n",
       "      <td>overview of hr associates analyst project per ...</td>\n",
       "    </tr>\n",
       "  </tbody>\n",
       "</table>\n",
       "</div>"
      ]
     },
     "execution_count": 125,
     "metadata": {},
     "output_type": "execute_result"
    }
   ],
   "execution_count": 125
  },
  {
   "metadata": {},
   "cell_type": "markdown",
   "source": "# Предобработка",
   "id": "c73fbfdc25d3027a"
  },
  {
   "metadata": {
    "ExecuteTime": {
     "end_time": "2024-12-17T17:27:38.133027Z",
     "start_time": "2024-12-17T17:27:38.125812Z"
    }
   },
   "cell_type": "code",
   "source": [
    "# очистка от пропусков\n",
    "data = data.dropna()\n",
    "data.isnull().sum()"
   ],
   "id": "9c0e53ebb5b4a5ee",
   "outputs": [
    {
     "data": {
      "text/plain": [
       "text_type    0\n",
       "text         0\n",
       "dtype: int64"
      ]
     },
     "execution_count": 126,
     "metadata": {},
     "output_type": "execute_result"
    }
   ],
   "execution_count": 126
  },
  {
   "metadata": {
    "ExecuteTime": {
     "end_time": "2024-12-17T17:27:38.773354Z",
     "start_time": "2024-12-17T17:27:38.753770Z"
    }
   },
   "cell_type": "code",
   "source": [
    "# удаление дубликатов\n",
    "data = data.drop_duplicates()"
   ],
   "id": "f57b67ef956b1e1c",
   "outputs": [],
   "execution_count": 127
  },
  {
   "metadata": {
    "ExecuteTime": {
     "end_time": "2024-12-17T17:27:39.220311Z",
     "start_time": "2024-12-17T17:27:39.211463Z"
    }
   },
   "cell_type": "code",
   "source": [
    "# закодируем числовой признак\n",
    "label_encoder = LabelEncoder()\n",
    "data['text_type'] = label_encoder.fit_transform(data['text_type'])\n",
    "data.head()"
   ],
   "id": "ea64785c89a810f6",
   "outputs": [
    {
     "data": {
      "text/plain": [
       "   text_type                                               text\n",
       "0          0  make sure alex knows his birthday is over in f...\n",
       "1          0  a resume for john lavorato thanks vince i will...\n",
       "2          1  plzz visit my website moviesgodml to get all m...\n",
       "3          1  urgent your mobile number has been awarded wit...\n",
       "4          0  overview of hr associates analyst project per ..."
      ],
      "text/html": [
       "<div>\n",
       "<style scoped>\n",
       "    .dataframe tbody tr th:only-of-type {\n",
       "        vertical-align: middle;\n",
       "    }\n",
       "\n",
       "    .dataframe tbody tr th {\n",
       "        vertical-align: top;\n",
       "    }\n",
       "\n",
       "    .dataframe thead th {\n",
       "        text-align: right;\n",
       "    }\n",
       "</style>\n",
       "<table border=\"1\" class=\"dataframe\">\n",
       "  <thead>\n",
       "    <tr style=\"text-align: right;\">\n",
       "      <th></th>\n",
       "      <th>text_type</th>\n",
       "      <th>text</th>\n",
       "    </tr>\n",
       "  </thead>\n",
       "  <tbody>\n",
       "    <tr>\n",
       "      <th>0</th>\n",
       "      <td>0</td>\n",
       "      <td>make sure alex knows his birthday is over in f...</td>\n",
       "    </tr>\n",
       "    <tr>\n",
       "      <th>1</th>\n",
       "      <td>0</td>\n",
       "      <td>a resume for john lavorato thanks vince i will...</td>\n",
       "    </tr>\n",
       "    <tr>\n",
       "      <th>2</th>\n",
       "      <td>1</td>\n",
       "      <td>plzz visit my website moviesgodml to get all m...</td>\n",
       "    </tr>\n",
       "    <tr>\n",
       "      <th>3</th>\n",
       "      <td>1</td>\n",
       "      <td>urgent your mobile number has been awarded wit...</td>\n",
       "    </tr>\n",
       "    <tr>\n",
       "      <th>4</th>\n",
       "      <td>0</td>\n",
       "      <td>overview of hr associates analyst project per ...</td>\n",
       "    </tr>\n",
       "  </tbody>\n",
       "</table>\n",
       "</div>"
      ]
     },
     "execution_count": 128,
     "metadata": {},
     "output_type": "execute_result"
    }
   ],
   "execution_count": 128
  },
  {
   "metadata": {
    "ExecuteTime": {
     "end_time": "2024-12-17T17:27:40.209889Z",
     "start_time": "2024-12-17T17:27:39.797300Z"
    }
   },
   "cell_type": "code",
   "source": [
    "# разделим на тестовую и обучающую выборки и закодируем текст как вектор\n",
    "\n",
    "X = data['text']\n",
    "y = data['text_type']\n",
    "\n",
    "X_tfidf = TfidfVectorizer().fit_transform(X)\n",
    "\n",
    "X_train, X_test, y_train, y_test = train_test_split(X_tfidf, y, test_size=0.2, random_state=42)"
   ],
   "id": "9cd94822ae77b03b",
   "outputs": [],
   "execution_count": 129
  },
  {
   "metadata": {
    "ExecuteTime": {
     "end_time": "2024-12-17T17:27:40.488379Z",
     "start_time": "2024-12-17T17:27:40.483787Z"
    }
   },
   "cell_type": "code",
   "source": "X_train",
   "id": "86c3d71207fc5a02",
   "outputs": [
    {
     "data": {
      "text/plain": [
       "<13013x53378 sparse matrix of type '<class 'numpy.float64'>'\n",
       "\twith 505201 stored elements in Compressed Sparse Row format>"
      ]
     },
     "execution_count": 130,
     "metadata": {},
     "output_type": "execute_result"
    }
   ],
   "execution_count": 130
  },
  {
   "metadata": {
    "ExecuteTime": {
     "end_time": "2024-12-17T17:27:41.037938Z",
     "start_time": "2024-12-17T17:27:41.033605Z"
    }
   },
   "cell_type": "code",
   "source": "y_train.head()",
   "id": "4d919ad2c776cbb7",
   "outputs": [
    {
     "data": {
      "text/plain": [
       "8683     0\n",
       "14665    1\n",
       "10367    0\n",
       "14756    0\n",
       "11034    1\n",
       "Name: text_type, dtype: int64"
      ]
     },
     "execution_count": 131,
     "metadata": {},
     "output_type": "execute_result"
    }
   ],
   "execution_count": 131
  },
  {
   "metadata": {},
   "cell_type": "markdown",
   "source": "# Анализ",
   "id": "1ae942b44f371970"
  },
  {
   "metadata": {
    "ExecuteTime": {
     "end_time": "2024-12-17T17:27:42.286949Z",
     "start_time": "2024-12-17T17:27:42.284451Z"
    }
   },
   "cell_type": "code",
   "source": "# ДОДЕЛАТЬ",
   "id": "b735ffb6945739bd",
   "outputs": [],
   "execution_count": 132
  },
  {
   "metadata": {},
   "cell_type": "markdown",
   "source": "# Обучение",
   "id": "2ff5d7547b3898b3"
  },
  {
   "metadata": {
    "ExecuteTime": {
     "end_time": "2024-12-17T17:27:48.466801Z",
     "start_time": "2024-12-17T17:27:43.402557Z"
    }
   },
   "cell_type": "code",
   "source": [
    "# классификаторы\n",
    "logistic_regression_cls = LogisticRegression(random_state=42)\n",
    "decision_tree_cls = DecisionTreeClassifier(random_state=42)\n",
    "\n",
    "# обучение модели\n",
    "logistic_regression_cls.fit(X_train, y_train)\n",
    "decision_tree_cls.fit(X_train, y_train)\n",
    "\n",
    "None"
   ],
   "id": "415d65a1c995349",
   "outputs": [],
   "execution_count": 133
  },
  {
   "metadata": {
    "ExecuteTime": {
     "end_time": "2024-12-17T17:27:48.482678Z",
     "start_time": "2024-12-17T17:27:48.470104Z"
    }
   },
   "cell_type": "code",
   "source": [
    "# предсказание результатов\n",
    "y_pred_log = logistic_regression_cls.predict(X_test)\n",
    "y_pred_tree = decision_tree_cls.predict(X_test)\n",
    "\n",
    "y_pred_proba_log = logistic_regression_cls.predict_proba(X_test)[:, 1]\n",
    "y_pred_proba_tree = decision_tree_cls.predict_proba(X_test)[:, 1]"
   ],
   "id": "9a26974e17ef8ab8",
   "outputs": [],
   "execution_count": 134
  },
  {
   "metadata": {},
   "cell_type": "markdown",
   "source": "# Результаты",
   "id": "6901cb26753af76c"
  },
  {
   "metadata": {
    "ExecuteTime": {
     "end_time": "2024-12-17T17:27:48.501528Z",
     "start_time": "2024-12-17T17:27:48.495391Z"
    }
   },
   "cell_type": "code",
   "source": [
    "# precision, recall, f1\n",
    "print(\"Метрики для логистической регрессия:\")\n",
    "print(classification_report(y_test, y_pred_log))"
   ],
   "id": "f3ac4fff37b4a1cc",
   "outputs": [
    {
     "name": "stdout",
     "output_type": "stream",
     "text": [
      "Метрики для логистической регрессия:\n",
      "              precision    recall  f1-score   support\n",
      "\n",
      "           0       0.91      0.98      0.95      2271\n",
      "           1       0.95      0.78      0.86       983\n",
      "\n",
      "    accuracy                           0.92      3254\n",
      "   macro avg       0.93      0.88      0.90      3254\n",
      "weighted avg       0.92      0.92      0.92      3254\n",
      "\n"
     ]
    }
   ],
   "execution_count": 135
  },
  {
   "metadata": {
    "ExecuteTime": {
     "end_time": "2024-12-17T17:27:48.520059Z",
     "start_time": "2024-12-17T17:27:48.513798Z"
    }
   },
   "cell_type": "code",
   "source": [
    "# precision, recall, f1\n",
    "print(\"Метрики для дерева решений:\")\n",
    "print(classification_report(y_test, y_pred_tree))"
   ],
   "id": "3c5573d01f2d2f34",
   "outputs": [
    {
     "name": "stdout",
     "output_type": "stream",
     "text": [
      "Метрики для дерева решений:\n",
      "              precision    recall  f1-score   support\n",
      "\n",
      "           0       0.92      0.93      0.93      2271\n",
      "           1       0.84      0.81      0.83       983\n",
      "\n",
      "    accuracy                           0.90      3254\n",
      "   macro avg       0.88      0.87      0.88      3254\n",
      "weighted avg       0.90      0.90      0.90      3254\n",
      "\n"
     ]
    }
   ],
   "execution_count": 136
  },
  {
   "metadata": {
    "ExecuteTime": {
     "end_time": "2024-12-17T17:27:48.533935Z",
     "start_time": "2024-12-17T17:27:48.531865Z"
    }
   },
   "cell_type": "code",
   "source": [
    "def show_confusion_matrix(y_pred, title: str):\n",
    "    matrix = confusion_matrix(y_test, y_pred)\n",
    "    sns.heatmap(matrix, annot=True, fmt='d')\n",
    "    plt.title(title)\n",
    "    plt.show()"
   ],
   "id": "bf82d17b637642bb",
   "outputs": [],
   "execution_count": 137
  },
  {
   "metadata": {
    "ExecuteTime": {
     "end_time": "2024-12-17T17:27:48.608401Z",
     "start_time": "2024-12-17T17:27:48.546270Z"
    }
   },
   "cell_type": "code",
   "source": "show_confusion_matrix(y_pred_log, \"Матрица ошибок для логистической регрессии\")",
   "id": "5ea0330c03e74124",
   "outputs": [
    {
     "data": {
      "text/plain": [
       "<Figure size 640x480 with 2 Axes>"
      ],
      "image/png": "[encoded data removed]"
     },
     "metadata": {},
     "output_type": "display_data"
    }
   ],
   "execution_count": 138
  },
  {
   "metadata": {
    "ExecuteTime": {
     "end_time": "2024-12-17T17:27:48.735997Z",
     "start_time": "2024-12-17T17:27:48.667910Z"
    }
   },
   "cell_type": "code",
   "source": "show_confusion_matrix(y_pred_tree, \"Матрица ошибок для дерева решений\")",
   "id": "eaa77eedcd227003",
   "outputs": [
    {
     "data": {
      "text/plain": [
       "<Figure size 640x480 with 2 Axes>"
      ],
      "image/png": "[encoded data removed]"
     },
     "metadata": {},
     "output_type": "display_data"
    }
   ],
   "execution_count": 139
  },
  {
   "metadata": {
    "ExecuteTime": {
     "end_time": "2024-12-17T17:27:48.775885Z",
     "start_time": "2024-12-17T17:27:48.764395Z"
    }
   },
   "cell_type": "code",
   "source": [
    "fpr_log, tpr_log, _ = roc_curve(y_test, logistic_regression_cls.predict_proba(X_test)[:, 1])\n",
    "fpr_tree, tpr_tree, _ = roc_curve(y_test, decision_tree_cls.predict_proba(X_test)[:, 1])\n",
    "\n",
    "roc_auc_log = roc_auc_score(y_test, y_pred_proba_log)\n",
    "roc_auc_tree = roc_auc_score(y_test, y_pred_proba_tree)\n",
    "\n",
    "print(f\"Логистическая регрессия: ROC AUC = {roc_auc_log:.4f}\")\n",
    "print(f\"Дерево решений: ROC AUC = {roc_auc_tree:.4f}\")"
   ],
   "id": "65fba82b1c13f4f4",
   "outputs": [
    {
     "name": "stdout",
     "output_type": "stream",
     "text": [
      "Логистическая регрессия: ROC AUC = 0.9754\n",
      "Дерево решений: ROC AUC = 0.8807\n"
     ]
    }
   ],
   "execution_count": 140
  },
  {
   "metadata": {
    "ExecuteTime": {
     "end_time": "2024-12-17T17:27:49.468984Z",
     "start_time": "2024-12-17T17:27:49.404425Z"
    }
   },
   "cell_type": "code",
   "source": [
    "plt.plot(fpr_log, tpr_log, label=f\"Логистическая регрессия (ROC AUC = {auc(fpr_log, tpr_log):.4f})\")\n",
    "plt.plot(fpr_tree, tpr_tree, label=f\"Дерево решений (ROC AUC = {auc(fpr_tree, tpr_tree):.4f})\")\n",
    "plt.xlabel(\"False Positive Rate\")\n",
    "plt.ylabel(\"True Positive Rate\")\n",
    "plt.legend()\n",
    "plt.show()"
   ],
   "id": "2ae4fb39d77859b5",
   "outputs": [
    {
     "data": {
      "text/plain": [
       "<Figure size 640x480 with 1 Axes>"
      ],
      "image/png": "[encoded data removed]"
     },
     "metadata": {},
     "output_type": "display_data"
    }
   ],
   "execution_count": 141
  },
  {
   "metadata": {},
   "cell_type": "code",
   "outputs": [],
   "execution_count": null,
   "source": "",
   "id": "42b53205182e7765"
  }
 ],
 "metadata": {
  "kernelspec": {
   "display_name": "Python 3",
   "language": "python",
   "name": "python3"
  },
  "language_info": {
   "codemirror_mode": {
    "name": "ipython",
    "version": 2
   },
   "file_extension": ".py",
   "mimetype": "text/x-python",
   "name": "python",
   "nbconvert_exporter": "python",
   "pygments_lexer": "ipython2",
   "version": "2.7.6"
  }
 },
 "nbformat": 4,
 "nbformat_minor": 5
}
