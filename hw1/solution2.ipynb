{
 "cells": [
  {
   "cell_type": "code",
   "id": "initial_id",
   "metadata": {
    "collapsed": true,
    "ExecuteTime": {
     "end_time": "2024-12-24T16:03:22.091470Z",
     "start_time": "2024-12-24T16:03:21.945345Z"
    }
   },
   "source": [
    "import pandas as pd\n",
    "import seaborn as sns\n",
    "import matplotlib.pyplot as plt\n",
    "from sklearn.feature_extraction.text import TfidfVectorizer\n",
    "\n",
    "from sklearn.metrics import roc_auc_score\n",
    "from sklearn.model_selection import train_test_split\n",
    "from sklearn.preprocessing import LabelEncoder\n",
    "from sklearn.linear_model import LogisticRegression\n",
    "from sklearn.tree import DecisionTreeClassifier\n",
    "from sklearn.metrics import classification_report, confusion_matrix, roc_curve, auc"
   ],
   "outputs": [],
   "execution_count": 2
  },
  {
   "metadata": {},
   "cell_type": "markdown",
   "source": "# Датасет 1 (cars)",
   "id": "3a57ae59adadf3a"
  },
  {
   "metadata": {
    "ExecuteTime": {
     "end_time": "2024-12-24T16:03:22.307496Z",
     "start_time": "2024-12-24T16:03:22.234062Z"
    }
   },
   "cell_type": "code",
   "source": [
    "data = pd.read_csv('data/spam.csv')\n",
    "data.describe()"
   ],
   "id": "6f62f631296b085a",
   "outputs": [
    {
     "data": {
      "text/plain": [
       "       text_type                                               text\n",
       "count      16278                                              16278\n",
       "unique         2                                              16267\n",
       "top          ham  SPAM ALERT  🚔  User:     Username: @DillyBubbl...\n",
       "freq       11469                                                  7"
      ],
      "text/html": [
       "<div>\n",
       "<style scoped>\n",
       "    .dataframe tbody tr th:only-of-type {\n",
       "        vertical-align: middle;\n",
       "    }\n",
       "\n",
       "    .dataframe tbody tr th {\n",
       "        vertical-align: top;\n",
       "    }\n",
       "\n",
       "    .dataframe thead th {\n",
       "        text-align: right;\n",
       "    }\n",
       "</style>\n",
       "<table border=\"1\" class=\"dataframe\">\n",
       "  <thead>\n",
       "    <tr style=\"text-align: right;\">\n",
       "      <th></th>\n",
       "      <th>text_type</th>\n",
       "      <th>text</th>\n",
       "    </tr>\n",
       "  </thead>\n",
       "  <tbody>\n",
       "    <tr>\n",
       "      <th>count</th>\n",
       "      <td>16278</td>\n",
       "      <td>16278</td>\n",
       "    </tr>\n",
       "    <tr>\n",
       "      <th>unique</th>\n",
       "      <td>2</td>\n",
       "      <td>16267</td>\n",
       "    </tr>\n",
       "    <tr>\n",
       "      <th>top</th>\n",
       "      <td>ham</td>\n",
       "      <td>SPAM ALERT  🚔  User:     Username: @DillyBubbl...</td>\n",
       "    </tr>\n",
       "    <tr>\n",
       "      <th>freq</th>\n",
       "      <td>11469</td>\n",
       "      <td>7</td>\n",
       "    </tr>\n",
       "  </tbody>\n",
       "</table>\n",
       "</div>"
      ]
     },
     "execution_count": 3,
     "metadata": {},
     "output_type": "execute_result"
    }
   ],
   "execution_count": 3
  },
  {
   "metadata": {
    "ExecuteTime": {
     "end_time": "2024-12-24T16:03:22.535059Z",
     "start_time": "2024-12-24T16:03:22.531247Z"
    }
   },
   "cell_type": "code",
   "source": "data.head()",
   "id": "8dbd127f1b436cdf",
   "outputs": [
    {
     "data": {
      "text/plain": [
       "  text_type                                               text\n",
       "0       ham  make sure alex knows his birthday is over in f...\n",
       "1       ham  a resume for john lavorato thanks vince i will...\n",
       "2      spam  plzz visit my website moviesgodml to get all m...\n",
       "3      spam  urgent your mobile number has been awarded wit...\n",
       "4       ham  overview of hr associates analyst project per ..."
      ],
      "text/html": [
       "<div>\n",
       "<style scoped>\n",
       "    .dataframe tbody tr th:only-of-type {\n",
       "        vertical-align: middle;\n",
       "    }\n",
       "\n",
       "    .dataframe tbody tr th {\n",
       "        vertical-align: top;\n",
       "    }\n",
       "\n",
       "    .dataframe thead th {\n",
       "        text-align: right;\n",
       "    }\n",
       "</style>\n",
       "<table border=\"1\" class=\"dataframe\">\n",
       "  <thead>\n",
       "    <tr style=\"text-align: right;\">\n",
       "      <th></th>\n",
       "      <th>text_type</th>\n",
       "      <th>text</th>\n",
       "    </tr>\n",
       "  </thead>\n",
       "  <tbody>\n",
       "    <tr>\n",
       "      <th>0</th>\n",
       "      <td>ham</td>\n",
       "      <td>make sure alex knows his birthday is over in f...</td>\n",
       "    </tr>\n",
       "    <tr>\n",
       "      <th>1</th>\n",
       "      <td>ham</td>\n",
       "      <td>a resume for john lavorato thanks vince i will...</td>\n",
       "    </tr>\n",
       "    <tr>\n",
       "      <th>2</th>\n",
       "      <td>spam</td>\n",
       "      <td>plzz visit my website moviesgodml to get all m...</td>\n",
       "    </tr>\n",
       "    <tr>\n",
       "      <th>3</th>\n",
       "      <td>spam</td>\n",
       "      <td>urgent your mobile number has been awarded wit...</td>\n",
       "    </tr>\n",
       "    <tr>\n",
       "      <th>4</th>\n",
       "      <td>ham</td>\n",
       "      <td>overview of hr associates analyst project per ...</td>\n",
       "    </tr>\n",
       "  </tbody>\n",
       "</table>\n",
       "</div>"
      ]
     },
     "execution_count": 4,
     "metadata": {},
     "output_type": "execute_result"
    }
   ],
   "execution_count": 4
  },
  {
   "metadata": {},
   "cell_type": "markdown",
   "source": "# Очистка",
   "id": "c73fbfdc25d3027a"
  },
  {
   "metadata": {
    "ExecuteTime": {
     "end_time": "2024-12-24T16:03:23.460046Z",
     "start_time": "2024-12-24T16:03:23.452477Z"
    }
   },
   "cell_type": "code",
   "source": [
    "# очистка от пропусков\n",
    "data = data.dropna()\n",
    "data.isnull().sum()"
   ],
   "id": "9c0e53ebb5b4a5ee",
   "outputs": [
    {
     "data": {
      "text/plain": [
       "text_type    0\n",
       "text         0\n",
       "dtype: int64"
      ]
     },
     "execution_count": 5,
     "metadata": {},
     "output_type": "execute_result"
    }
   ],
   "execution_count": 5
  },
  {
   "metadata": {
    "ExecuteTime": {
     "end_time": "2024-12-24T16:03:24.308033Z",
     "start_time": "2024-12-24T16:03:24.285364Z"
    }
   },
   "cell_type": "code",
   "source": [
    "# удаление дубликатов\n",
    "data = data.drop_duplicates()"
   ],
   "id": "f57b67ef956b1e1c",
   "outputs": [],
   "execution_count": 6
  },
  {
   "metadata": {},
   "cell_type": "markdown",
   "source": "# Анализ",
   "id": "1ae942b44f371970"
  },
  {
   "metadata": {
    "ExecuteTime": {
     "end_time": "2024-12-24T16:03:25.767179Z",
     "start_time": "2024-12-24T16:03:25.687218Z"
    }
   },
   "cell_type": "code",
   "source": [
    "sns.countplot(data['text_type'])\n",
    "plt.title(f\"Распределение таргет переменной\")\n",
    "plt.show()"
   ],
   "id": "fc67d073f6b7897a",
   "outputs": [
    {
     "data": {
      "text/plain": [
       "<Figure size 640x480 with 1 Axes>"
      ],
      "image/png": "[encoded data removed]"
     },
     "metadata": {},
     "output_type": "display_data"
    }
   ],
   "execution_count": 7
  },
  {
   "metadata": {
    "ExecuteTime": {
     "end_time": "2024-12-24T14:05:04.123915Z",
     "start_time": "2024-12-24T14:05:04.118391Z"
    }
   },
   "cell_type": "code",
   "source": [
    "# закодируем числовой признак\n",
    "label_encoder = LabelEncoder()\n",
    "data['text_type'] = label_encoder.fit_transform(data['text_type'])\n",
    "data.head()"
   ],
   "id": "d888fafb292344e6",
   "outputs": [
    {
     "data": {
      "text/plain": [
       "   text_type                                               text\n",
       "0          0  make sure alex knows his birthday is over in f...\n",
       "1          0  a resume for john lavorato thanks vince i will...\n",
       "2          1  plzz visit my website moviesgodml to get all m...\n",
       "3          1  urgent your mobile number has been awarded wit...\n",
       "4          0  overview of hr associates analyst project per ..."
      ],
      "text/html": [
       "<div>\n",
       "<style scoped>\n",
       "    .dataframe tbody tr th:only-of-type {\n",
       "        vertical-align: middle;\n",
       "    }\n",
       "\n",
       "    .dataframe tbody tr th {\n",
       "        vertical-align: top;\n",
       "    }\n",
       "\n",
       "    .dataframe thead th {\n",
       "        text-align: right;\n",
       "    }\n",
       "</style>\n",
       "<table border=\"1\" class=\"dataframe\">\n",
       "  <thead>\n",
       "    <tr style=\"text-align: right;\">\n",
       "      <th></th>\n",
       "      <th>text_type</th>\n",
       "      <th>text</th>\n",
       "    </tr>\n",
       "  </thead>\n",
       "  <tbody>\n",
       "    <tr>\n",
       "      <th>0</th>\n",
       "      <td>0</td>\n",
       "      <td>make sure alex knows his birthday is over in f...</td>\n",
       "    </tr>\n",
       "    <tr>\n",
       "      <th>1</th>\n",
       "      <td>0</td>\n",
       "      <td>a resume for john lavorato thanks vince i will...</td>\n",
       "    </tr>\n",
       "    <tr>\n",
       "      <th>2</th>\n",
       "      <td>1</td>\n",
       "      <td>plzz visit my website moviesgodml to get all m...</td>\n",
       "    </tr>\n",
       "    <tr>\n",
       "      <th>3</th>\n",
       "      <td>1</td>\n",
       "      <td>urgent your mobile number has been awarded wit...</td>\n",
       "    </tr>\n",
       "    <tr>\n",
       "      <th>4</th>\n",
       "      <td>0</td>\n",
       "      <td>overview of hr associates analyst project per ...</td>\n",
       "    </tr>\n",
       "  </tbody>\n",
       "</table>\n",
       "</div>"
      ]
     },
     "execution_count": 8,
     "metadata": {},
     "output_type": "execute_result"
    }
   ],
   "execution_count": 8
  },
  {
   "metadata": {},
   "cell_type": "markdown",
   "source": "# Обучение",
   "id": "2ff5d7547b3898b3"
  },
  {
   "metadata": {
    "ExecuteTime": {
     "end_time": "2024-12-24T14:05:31.212431Z",
     "start_time": "2024-12-24T14:05:30.836594Z"
    }
   },
   "cell_type": "code",
   "source": [
    "# разделим на тестовую и обучающую выборки и закодируем текст как вектор\n",
    "\n",
    "X = data['text']\n",
    "y = data['text_type']\n",
    "\n",
    "X_tfidf = TfidfVectorizer().fit_transform(X)\n",
    "\n",
    "X_train, X_test, y_train, y_test = train_test_split(X_tfidf, y, test_size=0.2, random_state=42)"
   ],
   "id": "8c3618096b55804",
   "outputs": [],
   "execution_count": 10
  },
  {
   "metadata": {
    "ExecuteTime": {
     "end_time": "2024-12-24T14:05:34.913223Z",
     "start_time": "2024-12-24T14:05:34.908845Z"
    }
   },
   "cell_type": "code",
   "source": "X_train",
   "id": "be2a99eab93135bf",
   "outputs": [
    {
     "data": {
      "text/plain": [
       "<Compressed Sparse Row sparse matrix of dtype 'float64'\n",
       "\twith 505201 stored elements and shape (13013, 53378)>"
      ]
     },
     "execution_count": 12,
     "metadata": {},
     "output_type": "execute_result"
    }
   ],
   "execution_count": 12
  },
  {
   "metadata": {
    "ExecuteTime": {
     "end_time": "2024-12-24T14:05:35.990385Z",
     "start_time": "2024-12-24T14:05:35.987554Z"
    }
   },
   "cell_type": "code",
   "source": "y_train.head()",
   "id": "36bcbbe63190c415",
   "outputs": [
    {
     "data": {
      "text/plain": [
       "8683     0\n",
       "14665    1\n",
       "10367    0\n",
       "14756    0\n",
       "11034    1\n",
       "Name: text_type, dtype: int64"
      ]
     },
     "execution_count": 13,
     "metadata": {},
     "output_type": "execute_result"
    }
   ],
   "execution_count": 13
  },
  {
   "metadata": {
    "ExecuteTime": {
     "end_time": "2024-12-24T14:05:43.277801Z",
     "start_time": "2024-12-24T14:05:38.389108Z"
    }
   },
   "cell_type": "code",
   "source": [
    "# классификаторы\n",
    "logistic_regression_cls = LogisticRegression(random_state=42)\n",
    "decision_tree_cls = DecisionTreeClassifier(random_state=42)\n",
    "\n",
    "# обучение модели\n",
    "logistic_regression_cls.fit(X_train, y_train)\n",
    "decision_tree_cls.fit(X_train, y_train)\n",
    "\n",
    "None"
   ],
   "id": "415d65a1c995349",
   "outputs": [],
   "execution_count": 14
  },
  {
   "metadata": {
    "ExecuteTime": {
     "end_time": "2024-12-24T14:05:43.293546Z",
     "start_time": "2024-12-24T14:05:43.280932Z"
    }
   },
   "cell_type": "code",
   "source": [
    "# предсказание результатов\n",
    "y_pred_log = logistic_regression_cls.predict(X_test)\n",
    "y_pred_tree = decision_tree_cls.predict(X_test)\n",
    "\n",
    "y_pred_proba_log = logistic_regression_cls.predict_proba(X_test)[:, 1]\n",
    "y_pred_proba_tree = decision_tree_cls.predict_proba(X_test)[:, 1]"
   ],
   "id": "9a26974e17ef8ab8",
   "outputs": [],
   "execution_count": 15
  },
  {
   "metadata": {},
   "cell_type": "markdown",
   "source": "# Результаты",
   "id": "6901cb26753af76c"
  },
  {
   "metadata": {
    "ExecuteTime": {
     "end_time": "2024-12-24T14:05:43.467292Z",
     "start_time": "2024-12-24T14:05:43.459141Z"
    }
   },
   "cell_type": "code",
   "source": [
    "# precision, recall, f1\n",
    "print(\"Метрики для логистической регрессия:\")\n",
    "print(classification_report(y_test, y_pred_log))"
   ],
   "id": "f3ac4fff37b4a1cc",
   "outputs": [
    {
     "name": "stdout",
     "output_type": "stream",
     "text": [
      "Метрики для логистической регрессия:\n",
      "              precision    recall  f1-score   support\n",
      "\n",
      "           0       0.91      0.98      0.95      2271\n",
      "           1       0.95      0.78      0.86       983\n",
      "\n",
      "    accuracy                           0.92      3254\n",
      "   macro avg       0.93      0.88      0.90      3254\n",
      "weighted avg       0.92      0.92      0.92      3254\n",
      "\n"
     ]
    }
   ],
   "execution_count": 16
  },
  {
   "metadata": {
    "ExecuteTime": {
     "end_time": "2024-12-24T14:05:44.097277Z",
     "start_time": "2024-12-24T14:05:44.087960Z"
    }
   },
   "cell_type": "code",
   "source": [
    "# precision, recall, f1\n",
    "print(\"Метрики для дерева решений:\")\n",
    "print(classification_report(y_test, y_pred_tree))"
   ],
   "id": "3c5573d01f2d2f34",
   "outputs": [
    {
     "name": "stdout",
     "output_type": "stream",
     "text": [
      "Метрики для дерева решений:\n",
      "              precision    recall  f1-score   support\n",
      "\n",
      "           0       0.92      0.93      0.93      2271\n",
      "           1       0.84      0.81      0.83       983\n",
      "\n",
      "    accuracy                           0.90      3254\n",
      "   macro avg       0.88      0.87      0.88      3254\n",
      "weighted avg       0.90      0.90      0.90      3254\n",
      "\n"
     ]
    }
   ],
   "execution_count": 17
  },
  {
   "metadata": {
    "ExecuteTime": {
     "end_time": "2024-12-24T14:05:44.732071Z",
     "start_time": "2024-12-24T14:05:44.729712Z"
    }
   },
   "cell_type": "code",
   "source": [
    "def show_confusion_matrix(y_pred, title: str):\n",
    "    matrix = confusion_matrix(y_test, y_pred)\n",
    "    sns.heatmap(matrix, annot=True, fmt='d')\n",
    "    plt.title(title)\n",
    "    plt.show()"
   ],
   "id": "bf82d17b637642bb",
   "outputs": [],
   "execution_count": 18
  },
  {
   "metadata": {
    "ExecuteTime": {
     "end_time": "2024-12-24T14:05:45.347378Z",
     "start_time": "2024-12-24T14:05:45.281817Z"
    }
   },
   "cell_type": "code",
   "source": "show_confusion_matrix(y_pred_log, \"Матрица ошибок для логистической регрессии\")",
   "id": "5ea0330c03e74124",
   "outputs": [
    {
     "data": {
      "text/plain": [
       "<Figure size 640x480 with 2 Axes>"
      ],
      "image/png": "[encoded data removed]"
     },
     "metadata": {},
     "output_type": "display_data"
    }
   ],
   "execution_count": 19
  },
  {
   "metadata": {
    "ExecuteTime": {
     "end_time": "2024-12-24T14:05:46.375113Z",
     "start_time": "2024-12-24T14:05:46.309232Z"
    }
   },
   "cell_type": "code",
   "source": "show_confusion_matrix(y_pred_tree, \"Матрица ошибок для дерева решений\")",
   "id": "eaa77eedcd227003",
   "outputs": [
    {
     "data": {
      "text/plain": [
       "<Figure size 640x480 with 2 Axes>"
      ],
      "image/png": "[encoded data removed]"
     },
     "metadata": {},
     "output_type": "display_data"
    }
   ],
   "execution_count": 20
  },
  {
   "metadata": {
    "ExecuteTime": {
     "end_time": "2024-12-24T14:05:47.379316Z",
     "start_time": "2024-12-24T14:05:47.362413Z"
    }
   },
   "cell_type": "code",
   "source": [
    "fpr_log, tpr_log, _ = roc_curve(y_test, logistic_regression_cls.predict_proba(X_test)[:, 1])\n",
    "fpr_tree, tpr_tree, _ = roc_curve(y_test, decision_tree_cls.predict_proba(X_test)[:, 1])\n",
    "\n",
    "roc_auc_log = roc_auc_score(y_test, y_pred_proba_log)\n",
    "roc_auc_tree = roc_auc_score(y_test, y_pred_proba_tree)\n",
    "\n",
    "print(f\"Логистическая регрессия: ROC AUC = {roc_auc_log:.4f}\")\n",
    "print(f\"Дерево решений: ROC AUC = {roc_auc_tree:.4f}\")"
   ],
   "id": "65fba82b1c13f4f4",
   "outputs": [
    {
     "name": "stdout",
     "output_type": "stream",
     "text": [
      "Логистическая регрессия: ROC AUC = 0.9754\n",
      "Дерево решений: ROC AUC = 0.8807\n"
     ]
    }
   ],
   "execution_count": 21
  },
  {
   "metadata": {
    "ExecuteTime": {
     "end_time": "2024-12-24T14:05:47.905747Z",
     "start_time": "2024-12-24T14:05:47.846517Z"
    }
   },
   "cell_type": "code",
   "source": [
    "plt.plot(fpr_log, tpr_log, label=f\"Логистическая регрессия (ROC AUC = {auc(fpr_log, tpr_log):.4f})\")\n",
    "plt.plot(fpr_tree, tpr_tree, label=f\"Дерево решений (ROC AUC = {auc(fpr_tree, tpr_tree):.4f})\")\n",
    "plt.xlabel(\"False Positive Rate\")\n",
    "plt.ylabel(\"True Positive Rate\")\n",
    "plt.legend()\n",
    "plt.show()"
   ],
   "id": "2ae4fb39d77859b5",
   "outputs": [
    {
     "data": {
      "text/plain": [
       "<Figure size 640x480 with 1 Axes>"
      ],
      "image/png": "[encoded data removed]"
     },
     "metadata": {},
     "output_type": "display_data"
    }
   ],
   "execution_count": 22
  },
  {
   "metadata": {},
   "cell_type": "code",
   "outputs": [],
   "execution_count": null,
   "source": "",
   "id": "680ad7f08e8e030a"
  }
 ],
 "metadata": {
  "kernelspec": {
   "display_name": "Python 3",
   "language": "python",
   "name": "python3"
  },
  "language_info": {
   "codemirror_mode": {
    "name": "ipython",
    "version": 2
   },
   "file_extension": ".py",
   "mimetype": "text/x-python",
   "name": "python",
   "nbconvert_exporter": "python",
   "pygments_lexer": "ipython2",
   "version": "2.7.6"
  }
 },
 "nbformat": 4,
 "nbformat_minor": 5
}
